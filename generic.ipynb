{
 "cells": [
  {
   "cell_type": "code",
   "execution_count": 1,
   "metadata": {
    "collapsed": true
   },
   "outputs": [],
   "source": [
    "import pandas as pd"
   ]
  },
  {
   "cell_type": "code",
   "execution_count": 74,
   "metadata": {
    "collapsed": false
   },
   "outputs": [],
   "source": [
    "redhat = pd.read_csv(\"C:\\\\Users\\\\vinod.pathak\\\\Desktop\\\\Vinod Pathak\\\\Predicting Red Hat Business Value\\\\redhat.csv\")"
   ]
  },
  {
   "cell_type": "code",
   "execution_count": 78,
   "metadata": {
    "collapsed": false,
    "scrolled": true
   },
   "outputs": [
    {
     "name": "stdout",
     "output_type": "stream",
     "text": [
      "pchar_1                      object\n",
      "pgroup_1                     object\n",
      "pchar_2                      object\n",
      "pdate                datetime64[ns]\n",
      "pchar_3                      object\n",
      "pchar_4                      object\n",
      "pchar_5                      object\n",
      "pchar_6                      object\n",
      "pchar_7                      object\n",
      "pchar_8                      object\n",
      "pchar_9                      object\n",
      "pchar_10                       bool\n",
      "pchar_11                       bool\n",
      "pchar_12                       bool\n",
      "pchar_13                       bool\n",
      "pchar_14                       bool\n",
      "pchar_15                       bool\n",
      "pchar_16                       bool\n",
      "pchar_17                       bool\n",
      "pchar_18                       bool\n",
      "pchar_19                       bool\n",
      "pchar_20                       bool\n",
      "pchar_21                       bool\n",
      "pchar_22                       bool\n",
      "pchar_23                       bool\n",
      "pchar_24                       bool\n",
      "pchar_25                       bool\n",
      "pchar_26                       bool\n",
      "pchar_27                       bool\n",
      "pchar_28                       bool\n",
      "pchar_29                       bool\n",
      "pchar_30                       bool\n",
      "pchar_31                       bool\n",
      "pchar_32                       bool\n",
      "pchar_33                       bool\n",
      "pchar_34                       bool\n",
      "pchar_35                       bool\n",
      "pchar_36                       bool\n",
      "pchar_37                       bool\n",
      "pchar_38                      int64\n",
      "date                 datetime64[ns]\n",
      "activity_category            object\n",
      "char_1                       object\n",
      "char_2                       object\n",
      "char_3                       object\n",
      "char_4                       object\n",
      "char_5                       object\n",
      "char_6                       object\n",
      "char_7                       object\n",
      "char_8                       object\n",
      "char_9                       object\n",
      "char_10                      object\n",
      "outcome                       int64\n",
      "dtype: object\n"
     ]
    }
   ],
   "source": [
    "#To view column types\n",
    "print redhat.dtypes"
   ]
  },
  {
   "cell_type": "code",
   "execution_count": 76,
   "metadata": {
    "collapsed": false
   },
   "outputs": [],
   "source": [
    "redhat = redhat.drop([\"people_id\",\"activity_id\"],axis=1)"
   ]
  },
  {
   "cell_type": "code",
   "execution_count": 77,
   "metadata": {
    "collapsed": false
   },
   "outputs": [],
   "source": [
    "redhat['pdate'] = pd.to_datetime(redhat['pdate'],infer_datetime_format=True)\n",
    "redhat['date'] = pd.to_datetime(redhat['date'],infer_datetime_format=True)"
   ]
  },
  {
   "cell_type": "code",
   "execution_count": 79,
   "metadata": {
    "collapsed": true
   },
   "outputs": [],
   "source": [
    "from sklearn.preprocessing import LabelEncoder\n",
    "from sklearn.pipeline import Pipeline"
   ]
  },
  {
   "cell_type": "code",
   "execution_count": 88,
   "metadata": {
    "collapsed": false
   },
   "outputs": [],
   "source": [
    "#Converting Object type to numeric"
   ]
  },
  {
   "cell_type": "code",
   "execution_count": 91,
   "metadata": {
    "collapsed": false
   },
   "outputs": [
    {
     "data": {
      "text/plain": [
       "Index([u'pchar_1', u'pgroup_1', u'pchar_2', u'pchar_3', u'pchar_4', u'pchar_5',\n",
       "       u'pchar_6', u'pchar_7', u'pchar_8', u'pchar_9', u'pchar_10',\n",
       "       u'pchar_11', u'pchar_12', u'pchar_13', u'pchar_14', u'pchar_15',\n",
       "       u'pchar_16', u'pchar_17', u'pchar_18', u'pchar_19', u'pchar_20',\n",
       "       u'pchar_21', u'pchar_22', u'pchar_23', u'pchar_24', u'pchar_25',\n",
       "       u'pchar_26', u'pchar_27', u'pchar_28', u'pchar_29', u'pchar_30',\n",
       "       u'pchar_31', u'pchar_32', u'pchar_33', u'pchar_34', u'pchar_35',\n",
       "       u'pchar_36', u'pchar_37', u'pchar_38', u'activity_category', u'char_1',\n",
       "       u'char_2', u'char_3', u'char_4', u'char_5', u'char_6', u'char_7',\n",
       "       u'char_8', u'char_9', u'char_10', u'outcome'],\n",
       "      dtype='object')"
      ]
     },
     "execution_count": 91,
     "metadata": {},
     "output_type": "execute_result"
    }
   ],
   "source": [
    "categorical_variables = redhat.dtypes.loc[redhat.dtypes!=\"datetime64[ns]\"].index\n",
    "categorical_variables"
   ]
  },
  {
   "cell_type": "code",
   "execution_count": 92,
   "metadata": {
    "collapsed": false,
    "scrolled": true
   },
   "outputs": [],
   "source": [
    "le = LabelEncoder()\n",
    "for var in categorical_variables:\n",
    "    redhat[var] = le.fit_transform(redhat[var])"
   ]
  },
  {
   "cell_type": "code",
   "execution_count": 93,
   "metadata": {
    "collapsed": false
   },
   "outputs": [
    {
     "data": {
      "text/html": [
       "<div>\n",
       "<table border=\"1\" class=\"dataframe\">\n",
       "  <thead>\n",
       "    <tr style=\"text-align: right;\">\n",
       "      <th></th>\n",
       "      <th>pchar_1</th>\n",
       "      <th>pgroup_1</th>\n",
       "      <th>pchar_2</th>\n",
       "      <th>pdate</th>\n",
       "      <th>pchar_3</th>\n",
       "      <th>pchar_4</th>\n",
       "      <th>pchar_5</th>\n",
       "      <th>pchar_6</th>\n",
       "      <th>pchar_7</th>\n",
       "      <th>pchar_8</th>\n",
       "      <th>...</th>\n",
       "      <th>char_2</th>\n",
       "      <th>char_3</th>\n",
       "      <th>char_4</th>\n",
       "      <th>char_5</th>\n",
       "      <th>char_6</th>\n",
       "      <th>char_7</th>\n",
       "      <th>char_8</th>\n",
       "      <th>char_9</th>\n",
       "      <th>char_10</th>\n",
       "      <th>outcome</th>\n",
       "    </tr>\n",
       "  </thead>\n",
       "  <tbody>\n",
       "    <tr>\n",
       "      <th>0</th>\n",
       "      <td>1</td>\n",
       "      <td>4691</td>\n",
       "      <td>1</td>\n",
       "      <td>2021-06-29</td>\n",
       "      <td>38</td>\n",
       "      <td>20</td>\n",
       "      <td>4</td>\n",
       "      <td>2</td>\n",
       "      <td>2</td>\n",
       "      <td>1</td>\n",
       "      <td>...</td>\n",
       "      <td>0</td>\n",
       "      <td>0</td>\n",
       "      <td>0</td>\n",
       "      <td>0</td>\n",
       "      <td>0</td>\n",
       "      <td>0</td>\n",
       "      <td>0</td>\n",
       "      <td>0</td>\n",
       "      <td>5383</td>\n",
       "      <td>0</td>\n",
       "    </tr>\n",
       "    <tr>\n",
       "      <th>1</th>\n",
       "      <td>1</td>\n",
       "      <td>4691</td>\n",
       "      <td>1</td>\n",
       "      <td>2021-06-29</td>\n",
       "      <td>38</td>\n",
       "      <td>20</td>\n",
       "      <td>4</td>\n",
       "      <td>2</td>\n",
       "      <td>2</td>\n",
       "      <td>1</td>\n",
       "      <td>...</td>\n",
       "      <td>0</td>\n",
       "      <td>0</td>\n",
       "      <td>0</td>\n",
       "      <td>0</td>\n",
       "      <td>0</td>\n",
       "      <td>0</td>\n",
       "      <td>0</td>\n",
       "      <td>0</td>\n",
       "      <td>1</td>\n",
       "      <td>0</td>\n",
       "    </tr>\n",
       "    <tr>\n",
       "      <th>2</th>\n",
       "      <td>1</td>\n",
       "      <td>4691</td>\n",
       "      <td>1</td>\n",
       "      <td>2021-06-29</td>\n",
       "      <td>38</td>\n",
       "      <td>20</td>\n",
       "      <td>4</td>\n",
       "      <td>2</td>\n",
       "      <td>2</td>\n",
       "      <td>1</td>\n",
       "      <td>...</td>\n",
       "      <td>0</td>\n",
       "      <td>0</td>\n",
       "      <td>0</td>\n",
       "      <td>0</td>\n",
       "      <td>0</td>\n",
       "      <td>0</td>\n",
       "      <td>0</td>\n",
       "      <td>0</td>\n",
       "      <td>1</td>\n",
       "      <td>0</td>\n",
       "    </tr>\n",
       "    <tr>\n",
       "      <th>3</th>\n",
       "      <td>1</td>\n",
       "      <td>4691</td>\n",
       "      <td>1</td>\n",
       "      <td>2021-06-29</td>\n",
       "      <td>38</td>\n",
       "      <td>20</td>\n",
       "      <td>4</td>\n",
       "      <td>2</td>\n",
       "      <td>2</td>\n",
       "      <td>1</td>\n",
       "      <td>...</td>\n",
       "      <td>0</td>\n",
       "      <td>0</td>\n",
       "      <td>0</td>\n",
       "      <td>0</td>\n",
       "      <td>0</td>\n",
       "      <td>0</td>\n",
       "      <td>0</td>\n",
       "      <td>0</td>\n",
       "      <td>1</td>\n",
       "      <td>0</td>\n",
       "    </tr>\n",
       "    <tr>\n",
       "      <th>4</th>\n",
       "      <td>1</td>\n",
       "      <td>4691</td>\n",
       "      <td>1</td>\n",
       "      <td>2021-06-29</td>\n",
       "      <td>38</td>\n",
       "      <td>20</td>\n",
       "      <td>4</td>\n",
       "      <td>2</td>\n",
       "      <td>2</td>\n",
       "      <td>1</td>\n",
       "      <td>...</td>\n",
       "      <td>0</td>\n",
       "      <td>0</td>\n",
       "      <td>0</td>\n",
       "      <td>0</td>\n",
       "      <td>0</td>\n",
       "      <td>0</td>\n",
       "      <td>0</td>\n",
       "      <td>0</td>\n",
       "      <td>1</td>\n",
       "      <td>0</td>\n",
       "    </tr>\n",
       "  </tbody>\n",
       "</table>\n",
       "<p>5 rows × 53 columns</p>\n",
       "</div>"
      ],
      "text/plain": [
       "   pchar_1  pgroup_1  pchar_2      pdate  pchar_3  pchar_4  pchar_5  pchar_6  \\\n",
       "0        1      4691        1 2021-06-29       38       20        4        2   \n",
       "1        1      4691        1 2021-06-29       38       20        4        2   \n",
       "2        1      4691        1 2021-06-29       38       20        4        2   \n",
       "3        1      4691        1 2021-06-29       38       20        4        2   \n",
       "4        1      4691        1 2021-06-29       38       20        4        2   \n",
       "\n",
       "   pchar_7  pchar_8   ...     char_2  char_3  char_4  char_5  char_6  char_7  \\\n",
       "0        2        1   ...          0       0       0       0       0       0   \n",
       "1        2        1   ...          0       0       0       0       0       0   \n",
       "2        2        1   ...          0       0       0       0       0       0   \n",
       "3        2        1   ...          0       0       0       0       0       0   \n",
       "4        2        1   ...          0       0       0       0       0       0   \n",
       "\n",
       "   char_8  char_9  char_10  outcome  \n",
       "0       0       0     5383        0  \n",
       "1       0       0        1        0  \n",
       "2       0       0        1        0  \n",
       "3       0       0        1        0  \n",
       "4       0       0        1        0  \n",
       "\n",
       "[5 rows x 53 columns]"
      ]
     },
     "execution_count": 93,
     "metadata": {},
     "output_type": "execute_result"
    }
   ],
   "source": [
    "redhat.head()\n",
    "redhat.shape"
   ]
  },
  {
   "cell_type": "code",
   "execution_count": 96,
   "metadata": {
    "collapsed": false
   },
   "outputs": [],
   "source": [
    "redhat.to_csv(\"C:\\\\Users\\\\vinod.pathak\\\\Desktop\\\\Vinod Pathak\\\\Predicting Red Hat Business Value\\\\num_redhat.csv\")"
   ]
  },
  {
   "cell_type": "code",
   "execution_count": 98,
   "metadata": {
    "collapsed": false
   },
   "outputs": [],
   "source": [
    "newdf = redhat.drop_duplicates()"
   ]
  },
  {
   "cell_type": "code",
   "execution_count": 104,
   "metadata": {
    "collapsed": false
   },
   "outputs": [
    {
     "data": {
      "text/plain": [
       "(1304021, 53)"
      ]
     },
     "execution_count": 104,
     "metadata": {},
     "output_type": "execute_result"
    }
   ],
   "source": [
    "newdf.shape"
   ]
  },
  {
   "cell_type": "code",
   "execution_count": 103,
   "metadata": {
    "collapsed": false
   },
   "outputs": [],
   "source": [
    "newdf.to_csv(\"C:\\\\Users\\\\vinod.pathak\\\\Desktop\\\\Vinod Pathak\\\\Predicting Red Hat Business Value\\\\rm_duplicates.csv\")"
   ]
  },
  {
   "cell_type": "code",
   "execution_count": 105,
   "metadata": {
    "collapsed": false
   },
   "outputs": [
    {
     "data": {
      "text/html": [
       "<div>\n",
       "<table border=\"1\" class=\"dataframe\">\n",
       "  <thead>\n",
       "    <tr style=\"text-align: right;\">\n",
       "      <th></th>\n",
       "      <th>pchar_1</th>\n",
       "      <th>pgroup_1</th>\n",
       "      <th>pchar_2</th>\n",
       "      <th>pdate</th>\n",
       "      <th>pchar_3</th>\n",
       "      <th>pchar_4</th>\n",
       "      <th>pchar_5</th>\n",
       "      <th>pchar_6</th>\n",
       "      <th>pchar_7</th>\n",
       "      <th>pchar_8</th>\n",
       "      <th>...</th>\n",
       "      <th>char_2</th>\n",
       "      <th>char_3</th>\n",
       "      <th>char_4</th>\n",
       "      <th>char_5</th>\n",
       "      <th>char_6</th>\n",
       "      <th>char_7</th>\n",
       "      <th>char_8</th>\n",
       "      <th>char_9</th>\n",
       "      <th>char_10</th>\n",
       "      <th>outcome</th>\n",
       "    </tr>\n",
       "  </thead>\n",
       "  <tbody>\n",
       "    <tr>\n",
       "      <th>0</th>\n",
       "      <td>1</td>\n",
       "      <td>4691</td>\n",
       "      <td>1</td>\n",
       "      <td>2021-06-29</td>\n",
       "      <td>38</td>\n",
       "      <td>20</td>\n",
       "      <td>4</td>\n",
       "      <td>2</td>\n",
       "      <td>2</td>\n",
       "      <td>1</td>\n",
       "      <td>...</td>\n",
       "      <td>0</td>\n",
       "      <td>0</td>\n",
       "      <td>0</td>\n",
       "      <td>0</td>\n",
       "      <td>0</td>\n",
       "      <td>0</td>\n",
       "      <td>0</td>\n",
       "      <td>0</td>\n",
       "      <td>5383</td>\n",
       "      <td>0</td>\n",
       "    </tr>\n",
       "    <tr>\n",
       "      <th>1</th>\n",
       "      <td>1</td>\n",
       "      <td>4691</td>\n",
       "      <td>1</td>\n",
       "      <td>2021-06-29</td>\n",
       "      <td>38</td>\n",
       "      <td>20</td>\n",
       "      <td>4</td>\n",
       "      <td>2</td>\n",
       "      <td>2</td>\n",
       "      <td>1</td>\n",
       "      <td>...</td>\n",
       "      <td>0</td>\n",
       "      <td>0</td>\n",
       "      <td>0</td>\n",
       "      <td>0</td>\n",
       "      <td>0</td>\n",
       "      <td>0</td>\n",
       "      <td>0</td>\n",
       "      <td>0</td>\n",
       "      <td>1</td>\n",
       "      <td>0</td>\n",
       "    </tr>\n",
       "    <tr>\n",
       "      <th>3</th>\n",
       "      <td>1</td>\n",
       "      <td>4691</td>\n",
       "      <td>1</td>\n",
       "      <td>2021-06-29</td>\n",
       "      <td>38</td>\n",
       "      <td>20</td>\n",
       "      <td>4</td>\n",
       "      <td>2</td>\n",
       "      <td>2</td>\n",
       "      <td>1</td>\n",
       "      <td>...</td>\n",
       "      <td>0</td>\n",
       "      <td>0</td>\n",
       "      <td>0</td>\n",
       "      <td>0</td>\n",
       "      <td>0</td>\n",
       "      <td>0</td>\n",
       "      <td>0</td>\n",
       "      <td>0</td>\n",
       "      <td>1</td>\n",
       "      <td>0</td>\n",
       "    </tr>\n",
       "    <tr>\n",
       "      <th>4</th>\n",
       "      <td>1</td>\n",
       "      <td>4691</td>\n",
       "      <td>1</td>\n",
       "      <td>2021-06-29</td>\n",
       "      <td>38</td>\n",
       "      <td>20</td>\n",
       "      <td>4</td>\n",
       "      <td>2</td>\n",
       "      <td>2</td>\n",
       "      <td>1</td>\n",
       "      <td>...</td>\n",
       "      <td>0</td>\n",
       "      <td>0</td>\n",
       "      <td>0</td>\n",
       "      <td>0</td>\n",
       "      <td>0</td>\n",
       "      <td>0</td>\n",
       "      <td>0</td>\n",
       "      <td>0</td>\n",
       "      <td>1</td>\n",
       "      <td>0</td>\n",
       "    </tr>\n",
       "    <tr>\n",
       "      <th>5</th>\n",
       "      <td>1</td>\n",
       "      <td>4691</td>\n",
       "      <td>1</td>\n",
       "      <td>2021-06-29</td>\n",
       "      <td>38</td>\n",
       "      <td>20</td>\n",
       "      <td>4</td>\n",
       "      <td>2</td>\n",
       "      <td>2</td>\n",
       "      <td>1</td>\n",
       "      <td>...</td>\n",
       "      <td>0</td>\n",
       "      <td>0</td>\n",
       "      <td>0</td>\n",
       "      <td>0</td>\n",
       "      <td>0</td>\n",
       "      <td>0</td>\n",
       "      <td>0</td>\n",
       "      <td>0</td>\n",
       "      <td>763</td>\n",
       "      <td>0</td>\n",
       "    </tr>\n",
       "  </tbody>\n",
       "</table>\n",
       "<p>5 rows × 53 columns</p>\n",
       "</div>"
      ],
      "text/plain": [
       "   pchar_1  pgroup_1  pchar_2      pdate  pchar_3  pchar_4  pchar_5  pchar_6  \\\n",
       "0        1      4691        1 2021-06-29       38       20        4        2   \n",
       "1        1      4691        1 2021-06-29       38       20        4        2   \n",
       "3        1      4691        1 2021-06-29       38       20        4        2   \n",
       "4        1      4691        1 2021-06-29       38       20        4        2   \n",
       "5        1      4691        1 2021-06-29       38       20        4        2   \n",
       "\n",
       "   pchar_7  pchar_8   ...     char_2  char_3  char_4  char_5  char_6  char_7  \\\n",
       "0        2        1   ...          0       0       0       0       0       0   \n",
       "1        2        1   ...          0       0       0       0       0       0   \n",
       "3        2        1   ...          0       0       0       0       0       0   \n",
       "4        2        1   ...          0       0       0       0       0       0   \n",
       "5        2        1   ...          0       0       0       0       0       0   \n",
       "\n",
       "   char_8  char_9  char_10  outcome  \n",
       "0       0       0     5383        0  \n",
       "1       0       0        1        0  \n",
       "3       0       0        1        0  \n",
       "4       0       0        1        0  \n",
       "5       0       0      763        0  \n",
       "\n",
       "[5 rows x 53 columns]"
      ]
     },
     "execution_count": 105,
     "metadata": {},
     "output_type": "execute_result"
    }
   ],
   "source": [
    "newdf.head()"
   ]
  },
  {
   "cell_type": "code",
   "execution_count": null,
   "metadata": {
    "collapsed": true
   },
   "outputs": [],
   "source": []
  }
 ],
 "metadata": {
  "kernelspec": {
   "display_name": "Python 2",
   "language": "python",
   "name": "python2"
  },
  "language_info": {
   "codemirror_mode": {
    "name": "ipython",
    "version": 2
   },
   "file_extension": ".py",
   "mimetype": "text/x-python",
   "name": "python",
   "nbconvert_exporter": "python",
   "pygments_lexer": "ipython2",
   "version": "2.7.11"
  }
 },
 "nbformat": 4,
 "nbformat_minor": 0
}
